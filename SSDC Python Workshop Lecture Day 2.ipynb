{
 "cells": [
  {
   "cell_type": "markdown",
   "metadata": {},
   "source": [
    "# Some Manifestations of print()"
   ]
  },
  {
   "cell_type": "code",
   "execution_count": 5,
   "metadata": {},
   "outputs": [
    {
     "ename": "TypeError",
     "evalue": "ord() expected string of length 1, but int found",
     "output_type": "error",
     "traceback": [
      "\u001b[0;31m---------------------------------------------------------------------------\u001b[0m",
      "\u001b[0;31mTypeError\u001b[0m                                 Traceback (most recent call last)",
      "\u001b[0;32m<ipython-input-5-71f3b923abce>\u001b[0m in \u001b[0;36m<module>\u001b[0;34m\u001b[0m\n\u001b[0;32m----> 1\u001b[0;31m \u001b[0mord\u001b[0m\u001b[0;34m(\u001b[0m\u001b[0;36m97\u001b[0m\u001b[0;34m)\u001b[0m\u001b[0;34m\u001b[0m\u001b[0;34m\u001b[0m\u001b[0m\n\u001b[0m",
      "\u001b[0;31mTypeError\u001b[0m: ord() expected string of length 1, but int found"
     ]
    }
   ],
   "source": [
    "print('SSDC')"
   ]
  },
  {
   "cell_type": "code",
   "execution_count": 4,
   "metadata": {},
   "outputs": [
    {
     "name": "stdout",
     "output_type": "stream",
     "text": [
      "SSDC True\n"
     ]
    }
   ],
   "source": [
    "print('SSDC' , True)"
   ]
  },
  {
   "cell_type": "code",
   "execution_count": 7,
   "metadata": {},
   "outputs": [
    {
     "name": "stdout",
     "output_type": "stream",
     "text": [
      "SSDC SLIET\n"
     ]
    }
   ],
   "source": [
    "print('SSDC' , 'SLIET' , sep = ' ')"
   ]
  },
  {
   "cell_type": "code",
   "execution_count": 8,
   "metadata": {},
   "outputs": [
    {
     "name": "stdout",
     "output_type": "stream",
     "text": [
      "Enter string x : SSDC\n",
      "Enter string y : SLIET\n",
      "SSDC SLIET\n"
     ]
    }
   ],
   "source": [
    "x = input('Enter string x : ')\n",
    "y = input('Enter string y : ')\n",
    "print( x , y )"
   ]
  },
  {
   "cell_type": "code",
   "execution_count": 9,
   "metadata": {},
   "outputs": [
    {
     "name": "stdout",
     "output_type": "stream",
     "text": [
      "Enter string x : SSDC\n",
      "Enter string y : SLIET\n",
      "SSDC , SLIET\n"
     ]
    }
   ],
   "source": [
    "x = input('Enter string x : ')\n",
    "y = input('Enter string y : ')\n",
    "print( x , y , sep = ' , ')"
   ]
  },
  {
   "cell_type": "code",
   "execution_count": 10,
   "metadata": {},
   "outputs": [
    {
     "name": "stdout",
     "output_type": "stream",
     "text": [
      "SSDC\n",
      "SLIET\n"
     ]
    }
   ],
   "source": [
    "print('SSDC')\n",
    "print('SLIET')"
   ]
  },
  {
   "cell_type": "code",
   "execution_count": 13,
   "metadata": {},
   "outputs": [
    {
     "name": "stdout",
     "output_type": "stream",
     "text": [
      "SSDC SLIET\n"
     ]
    }
   ],
   "source": [
    "print('SSDC' , end = ' ')\n",
    "print('SLIET')"
   ]
  },
  {
   "cell_type": "markdown",
   "metadata": {},
   "source": [
    "# Decision Making  "
   ]
  },
  {
   "cell_type": "markdown",
   "metadata": {},
   "source": [
    "# If statements are used to bypass a piece of code on certain ocassions"
   ]
  },
  {
   "cell_type": "code",
   "execution_count": 15,
   "metadata": {},
   "outputs": [
    {
     "name": "stdout",
     "output_type": "stream",
     "text": [
      "Enter number : 4\n",
      "6\n"
     ]
    }
   ],
   "source": [
    "# If user enters a no. greater than 5 then leave it as it is otherwise add 2 to it\n",
    "\n",
    "num = int( input( 'Enter number : ' ) )\n",
    "\n",
    "if( num <= 5):\n",
    "    num = num + 2 # num+=2\n",
    "\n",
    "print(num)"
   ]
  },
  {
   "cell_type": "markdown",
   "metadata": {},
   "source": [
    "# If statements are used to choose between two options on certain ocassions "
   ]
  },
  {
   "cell_type": "code",
   "execution_count": 18,
   "metadata": {},
   "outputs": [
    {
     "name": "stdout",
     "output_type": "stream",
     "text": [
      "Enter number : 10\n"
     ]
    }
   ],
   "source": [
    "# If user enters a no. greater than 5 then subtract 3 from it otherwise add 2 to it\n",
    "\n",
    "num = int( input( 'Enter number : ' ) )\n",
    "\n",
    "if( num > 5):\n",
    "    num = num - 3 # num-=3\n",
    "    \n",
    "    \n",
    "    \n",
    "    \n",
    "    \n",
    "    \n",
    "    \n",
    "    \n",
    "    \n",
    "    \n",
    "    \n",
    "else:\n",
    "    num = num + 2 # num+=2\n",
    "\n",
    "print(num)"
   ]
  },
  {
   "cell_type": "markdown",
   "metadata": {},
   "source": [
    "# If statements are used to choose between multiple set of options on certain ocassions "
   ]
  },
  {
   "cell_type": "code",
   "execution_count": 21,
   "metadata": {},
   "outputs": [
    {
     "name": "stdout",
     "output_type": "stream",
     "text": [
      "Enter number : 3\n",
      "5\n"
     ]
    }
   ],
   "source": [
    "# If user enters a no. greater than 5 then subtract 2 from it , equal to 5 then add 5 to it , otherwise add 2 to it\n",
    "\n",
    "num = int( input( 'Enter number : ' ) )\n",
    "\n",
    "if( num > 5):\n",
    "    num = num - 3 # num-=3\n",
    "elif( num == 5):\n",
    "    num = num + 5 # num+=5\n",
    "else:\n",
    "    num = num + 2 # num+=2\n",
    "\n",
    "print(num)"
   ]
  },
  {
   "cell_type": "markdown",
   "metadata": {},
   "source": [
    "# If your choices come with more choices"
   ]
  },
  {
   "cell_type": "code",
   "execution_count": 24,
   "metadata": {},
   "outputs": [
    {
     "name": "stdout",
     "output_type": "stream",
     "text": [
      "Enter number : 100\n",
      "97\n"
     ]
    }
   ],
   "source": [
    "# If user enters a no. greater than 5 then subtract 3 from it if it is even , otherwise add 2 to it \n",
    "# and none of the above occurs then add 5 to it\n",
    "\n",
    "num = int( input( 'Enter number : ' ) )\n",
    "\n",
    "if( num > 5 and num%2 == 0):\n",
    "    num = num - 3 # num-=3\n",
    "elif( num > 5 and num%2!=0):\n",
    "    num = num + 2 # num+=2\n",
    "else:\n",
    "    num = num + 5 # num+=5\n",
    "\n",
    "print(num)"
   ]
  },
  {
   "cell_type": "markdown",
   "metadata": {},
   "source": [
    "# Do you know about ord() and chr() functions ?"
   ]
  },
  {
   "cell_type": "code",
   "execution_count": 9,
   "metadata": {},
   "outputs": [
    {
     "name": "stdout",
     "output_type": "stream",
     "text": [
      "57\n",
      "9\n"
     ]
    }
   ],
   "source": [
    "print( ord(ascii(9)) ); print( chr(57) )"
   ]
  },
  {
   "cell_type": "markdown",
   "metadata": {},
   "source": [
    "# What do relational operators on strings do ?"
   ]
  },
  {
   "cell_type": "code",
   "execution_count": 42,
   "metadata": {},
   "outputs": [
    {
     "name": "stdout",
     "output_type": "stream",
     "text": [
      "True\n"
     ]
    }
   ],
   "source": [
    "# '==' , '<' , '>' what do they do on strings\n",
    "\n",
    "print('az' > 'abcd')"
   ]
  },
  {
   "cell_type": "markdown",
   "metadata": {},
   "source": [
    "# When a task needs to be performed multiple times but you know how many times"
   ]
  },
  {
   "cell_type": "code",
   "execution_count": 45,
   "metadata": {},
   "outputs": [
    {
     "name": "stdout",
     "output_type": "stream",
     "text": [
      "Enter integer : 100\n",
      "Sum = 5050\n"
     ]
    }
   ],
   "source": [
    "# WAP to calculate the sum of n Natural numbers\n",
    "n = int( input('Enter integer : '))\n",
    "\n",
    "sum = 0\n",
    "for i in range(1 , n+1):\n",
    "    sum = sum + i\n",
    "    \n",
    "print('Sum =', sum)"
   ]
  },
  {
   "cell_type": "markdown",
   "metadata": {},
   "source": [
    "# When a task needs to be performed multiple times but you don't know how many times"
   ]
  },
  {
   "cell_type": "code",
   "execution_count": 44,
   "metadata": {},
   "outputs": [
    {
     "name": "stdout",
     "output_type": "stream",
     "text": [
      "Enter 'Y' to start OR 'N' to stop : Y\n",
      "Enter a integer : 5\n",
      "Enter 'Y' to continue OR 'N' to stop : Y\n",
      "Enter a integer : 4\n",
      "Enter 'Y' to continue OR 'N' to stop : N\n",
      "Sum = 9\n"
     ]
    }
   ],
   "source": [
    "# WAP to calculate sum of all the numbers given to you by user\n",
    "\n",
    "choice = input(\"Enter 'Y' to start OR 'N' to stop : \")\n",
    "\n",
    "sum = 0\n",
    "\n",
    "while choice == 'Y':\n",
    "    \n",
    "    i = int( input('Enter a integer : '))\n",
    "    sum = sum + i\n",
    "    \n",
    "    choice = input(\"Enter 'Y' to continue OR 'N' to stop : \")\n",
    "    \n",
    "print('Sum =', sum)"
   ]
  },
  {
   "cell_type": "markdown",
   "metadata": {},
   "source": [
    "# The use of break statement"
   ]
  },
  {
   "cell_type": "code",
   "execution_count": 48,
   "metadata": {},
   "outputs": [
    {
     "name": "stdout",
     "output_type": "stream",
     "text": [
      "10\n",
      "a\n"
     ]
    }
   ],
   "source": [
    "i = 10\n",
    "while i>0:\n",
    "    print(i)\n",
    "    i = i-1\n",
    "    break\n",
    "print('a')"
   ]
  },
  {
   "cell_type": "code",
   "execution_count": 49,
   "metadata": {},
   "outputs": [
    {
     "name": "stdout",
     "output_type": "stream",
     "text": [
      "Enter a your value: 15\n",
      "Enter a your value: 25\n",
      "Enter a your value: 40\n",
      "Enter a your value: STOP\n",
      "Sum = 80\n"
     ]
    }
   ],
   "source": [
    "# WAP to calculate all the numbers given to you by user until he enters 'STOP'\n",
    "\n",
    "sum = 0\n",
    "while True:\n",
    "    i = input('Enter a your value: ')\n",
    "    if(i == 'STOP'):\n",
    "        break\n",
    "    sum = sum + int(i)\n",
    "    \n",
    "print('Sum =', sum)"
   ]
  },
  {
   "cell_type": "markdown",
   "metadata": {},
   "source": [
    "# The use of continue statement"
   ]
  },
  {
   "cell_type": "code",
   "execution_count": 50,
   "metadata": {},
   "outputs": [
    {
     "name": "stdout",
     "output_type": "stream",
     "text": [
      "9\n",
      "8\n",
      "7\n",
      "6\n",
      "4\n",
      "3\n",
      "2\n",
      "1\n",
      "0\n"
     ]
    }
   ],
   "source": [
    "i = 10\n",
    "while i>0 :\n",
    "    i = i - 1\n",
    "    if( i == 5 ):\n",
    "        continue\n",
    "    print(i)"
   ]
  },
  {
   "cell_type": "code",
   "execution_count": 26,
   "metadata": {},
   "outputs": [
    {
     "name": "stdout",
     "output_type": "stream",
     "text": [
      "Enter a your value: 25\n",
      "Enter a your value: 24\n",
      "Enter a your value: 15\n",
      "Enter a your value: 16\n",
      "Enter a your value: STOP\n",
      "Sum = 40\n"
     ]
    }
   ],
   "source": [
    "# WAP to calculate all the even numbers given to you by user until he enters 'STOP'\n",
    "\n",
    "sum = 0\n",
    "while True:\n",
    "    i = input('Enter a your value: ')\n",
    "    if(i == 'STOP'):\n",
    "        break\n",
    "    if(int(i)%2 != 0):\n",
    "        continue\n",
    "    sum = sum + int(i)\n",
    "    \n",
    "print('Sum =', sum)"
   ]
  },
  {
   "cell_type": "markdown",
   "metadata": {},
   "source": [
    "# Yes, else also exist for loops!"
   ]
  },
  {
   "cell_type": "code",
   "execution_count": null,
   "metadata": {},
   "outputs": [],
   "source": [
    "# In case of for loop\n",
    "\n",
    "string = input('Enter any string : ')\n",
    "\n",
    "for c in string:\n",
    "    if( c == 'a'):\n",
    "        break\n",
    "else:\n",
    "    print(\"No, 'a' was found in string.\")"
   ]
  },
  {
   "cell_type": "code",
   "execution_count": 31,
   "metadata": {},
   "outputs": [
    {
     "name": "stdout",
     "output_type": "stream",
     "text": [
      "Enter any string : -3\n"
     ]
    }
   ],
   "source": [
    "# In case of while loop\n",
    "\n",
    "num = int( input('Enter any string : ') )\n",
    "\n",
    "while num < 0:\n",
    "    if(num<-5):\n",
    "        break;\n",
    "    num = num - 1\n",
    "else:\n",
    "    print(num , \"is not negative\")"
   ]
  },
  {
   "cell_type": "markdown",
   "metadata": {},
   "source": [
    "# Can our loops live without a body?"
   ]
  },
  {
   "cell_type": "markdown",
   "metadata": {},
   "source": []
  },
  {
   "cell_type": "code",
   "execution_count": null,
   "metadata": {},
   "outputs": [],
   "source": [
    "# Count the no. of vowels in the given string\n",
    "string = 'abcdefghijklmnopqrstuvwxyz'"
   ]
  },
  {
   "cell_type": "code",
   "execution_count": null,
   "metadata": {},
   "outputs": [],
   "source": [
    "# Count the no. of vowels and consonants in the given string\n",
    "string = 'abcdefghijklmnopqrstuvwxyz'"
   ]
  },
  {
   "cell_type": "code",
   "execution_count": null,
   "metadata": {},
   "outputs": [],
   "source": [
    "# Count the no. of lower case letters, upper case letters and digits in the given string \n",
    "string = 'abcdEf1576ghiJKlmn4892OPQRst30uvWXYZ'"
   ]
  },
  {
   "cell_type": "code",
   "execution_count": null,
   "metadata": {},
   "outputs": [],
   "source": [
    "# Change loer case letters to upper case letters and vice versa\n",
    "string = 'abcdEfghiJKlmnOPQRstuvWXYZ'"
   ]
  },
  {
   "cell_type": "code",
   "execution_count": null,
   "metadata": {},
   "outputs": [],
   "source": [
    "# Count the no. of lower case vowels and consonants as well as upper case vowels and consonants in the given string\n",
    "string = 'abcdEfghiJKlmnOPQRstuvWXYZ'"
   ]
  },
  {
   "cell_type": "markdown",
   "metadata": {},
   "source": [
    "# Q1 WAP to check whether a user input no. is multiple of 5 or not"
   ]
  },
  {
   "cell_type": "code",
   "execution_count": 1,
   "metadata": {},
   "outputs": [
    {
     "name": "stdout",
     "output_type": "stream",
     "text": [
      "10\n",
      "Yes\n"
     ]
    }
   ],
   "source": [
    "a=int(input())\n",
    "if(a%5==0):\n",
    "    print(\"Yes\")\n",
    "else:\n",
    "    print(\"No\")"
   ]
  },
  {
   "cell_type": "markdown",
   "metadata": {},
   "source": [
    "# Q2 WAP to calculate the sum of n Natural numbers using while loop"
   ]
  },
  {
   "cell_type": "code",
   "execution_count": 3,
   "metadata": {},
   "outputs": [
    {
     "name": "stdout",
     "output_type": "stream",
     "text": [
      "5\n",
      "15\n"
     ]
    }
   ],
   "source": [
    "n=int(input())\n",
    "s=0\n",
    "while(n>0):\n",
    "    s+=n\n",
    "    n-=1\n",
    "    \n",
    "print(s)"
   ]
  },
  {
   "cell_type": "markdown",
   "metadata": {},
   "source": [
    "# Q3 WAP to check whether a user input no. is :\n",
    "a) even and greater than 5 : then print it's Unicode/ASCII value\n",
    "b) even and less than or equal to 5 : then print the character whose Unicode/ASCII value this number represents\n",
    "c) otherwise : print the no. as it is"
   ]
  },
  {
   "cell_type": "code",
   "execution_count": 15,
   "metadata": {},
   "outputs": [
    {
     "name": "stdout",
     "output_type": "stream",
     "text": [
      "2\n",
      "Ascii val: 50\n"
     ]
    }
   ],
   "source": [
    "n=int(input())\n",
    "if n%2==0 and n>5:\n",
    "    print(chr(n))\n",
    "elif n%2==0 and n<5:\n",
    "    n=ascii(n)\n",
    "    print(\"Ascii val: \" + str(ord(n)))\n",
    "    \n",
    "else:\n",
    "    print(n)\n",
    "    \n",
    "\n"
   ]
  },
  {
   "cell_type": "markdown",
   "metadata": {},
   "source": [
    "# Q4 WAP to print following output onto the screen\n",
    "@\n",
    "\n",
    "@@\n",
    "\n",
    "@@@\n",
    "\n",
    "@@@@\n",
    "\n",
    ".\n",
    "\n",
    ".\n",
    "\n",
    ".\n",
    "\n",
    "@@@.... upto n times"
   ]
  },
  {
   "cell_type": "code",
   "execution_count": 17,
   "metadata": {},
   "outputs": [
    {
     "name": "stdout",
     "output_type": "stream",
     "text": [
      "5\n",
      "@ \n",
      "@ @ \n",
      "@ @ @ \n",
      "@ @ @ @ \n",
      "@ @ @ @ @ \n"
     ]
    }
   ],
   "source": [
    "n=int(input())\n",
    "for i in range(1,n+1):\n",
    "    print('@ '*i)"
   ]
  },
  {
   "cell_type": "markdown",
   "metadata": {},
   "source": [
    "# Q5 WAP to reverse and print a user input string"
   ]
  },
  {
   "cell_type": "code",
   "execution_count": 18,
   "metadata": {},
   "outputs": [
    {
     "name": "stdout",
     "output_type": "stream",
     "text": [
      "amitoj\n",
      "jotima\n"
     ]
    }
   ],
   "source": [
    "s=input()\n",
    "print(s[::-1])"
   ]
  },
  {
   "cell_type": "markdown",
   "metadata": {},
   "source": [
    "# Q6 WAP to count the total occurrences of character 'a' in the user input string "
   ]
  },
  {
   "cell_type": "code",
   "execution_count": 20,
   "metadata": {},
   "outputs": [
    {
     "name": "stdout",
     "output_type": "stream",
     "text": [
      "amitojsinghahuja\n",
      "3\n"
     ]
    }
   ],
   "source": [
    "s=input()\n",
    "c=0\n",
    "for i in s:\n",
    "    if(i=='a'):\n",
    "        c+=1\n",
    "print(c)"
   ]
  },
  {
   "cell_type": "code",
   "execution_count": 21,
   "metadata": {},
   "outputs": [
    {
     "name": "stdout",
     "output_type": "stream",
     "text": [
      "amitojsinghahuja\n",
      "3\n"
     ]
    }
   ],
   "source": [
    "s=input()\n",
    "print(s.count('a'))"
   ]
  },
  {
   "cell_type": "markdown",
   "metadata": {},
   "source": [
    "### Q7 WAP to count the total no. of occurences of  'aabb' in 'aaabbbaabbbabaabbaabbaabaabbbbabba' print the count"
   ]
  },
  {
   "cell_type": "code",
   "execution_count": 30,
   "metadata": {},
   "outputs": [
    {
     "data": {
      "text/plain": [
       "5"
      ]
     },
     "execution_count": 30,
     "metadata": {},
     "output_type": "execute_result"
    }
   ],
   "source": [
    "s='aaabbbaabbbabaabbaabbaabaabbbbabba'\n",
    "ss='aabb'\n",
    "s.count(ss)"
   ]
  },
  {
   "cell_type": "code",
   "execution_count": null,
   "metadata": {},
   "outputs": [],
   "source": []
  },
  {
   "cell_type": "markdown",
   "metadata": {},
   "source": [
    "# Q8 WAP to print the following pattern onto the screen:\n",
    "              *\n",
    "             ***\n",
    "            *****\n",
    "           *******\n",
    "          *********\n",
    "          .\n",
    "          .\n",
    "          .\n",
    "      ***.............*** upto n terms"
   ]
  },
  {
   "cell_type": "code",
   "execution_count": 23,
   "metadata": {},
   "outputs": [
    {
     "name": "stdout",
     "output_type": "stream",
     "text": [
      "10\n",
      "         *\n",
      "        ***\n",
      "       *****\n",
      "      *******\n",
      "     *********\n",
      "    ***********\n",
      "   *************\n",
      "  ***************\n",
      " *****************\n",
      "*******************\n"
     ]
    }
   ],
   "source": [
    "n=int(input())\n",
    "k=1\n",
    "for i in range(1,n+1):\n",
    "    print(' '*(n-i)+'*'*k)\n",
    "    k+=2"
   ]
  },
  {
   "cell_type": "markdown",
   "metadata": {},
   "source": [
    "# Q9 WAP to take input of 4 integers and print the LARGEST of the four (without using list)"
   ]
  },
  {
   "cell_type": "code",
   "execution_count": 26,
   "metadata": {},
   "outputs": [
    {
     "name": "stdout",
     "output_type": "stream",
     "text": [
      "10 20 200 30\n",
      "200\n"
     ]
    }
   ],
   "source": [
    "# a,b,c,d=list(map(int,input().split()))\n",
    "a,b,c,d = input().split()\n",
    "a=int(a)\n",
    "b=int(b)\n",
    "c=int(c)\n",
    "d=int(d)\n",
    "\n",
    "if a>b and a>c and a>d:\n",
    "    print(a)\n",
    "elif b>a and b>c and b>d:\n",
    "    print(b)\n",
    "elif c>a and c>d and c>b:\n",
    "    print(c)\n",
    "else:\n",
    "    print(d)\n"
   ]
  },
  {
   "cell_type": "markdown",
   "metadata": {},
   "source": [
    "# Q10 WAP to take input of N (from user input) integers and print the SMALLEST integer of all (without using list)"
   ]
  },
  {
   "cell_type": "code",
   "execution_count": 27,
   "metadata": {},
   "outputs": [
    {
     "name": "stdout",
     "output_type": "stream",
     "text": [
      "100 20 30 42\n",
      "20\n"
     ]
    }
   ],
   "source": [
    "# a,b,c,d=list(map(int,input().split()))\n",
    "a,b,c,d = input().split()\n",
    "a=int(a)\n",
    "b=int(b)\n",
    "c=int(c)\n",
    "d=int(d)\n",
    "\n",
    "\n",
    "\n",
    "if a<b and a<c and a<d:\n",
    "    print(a)\n",
    "elif b<a and b<c and b<d:\n",
    "    print(b)\n",
    "elif c<a and c<d and c<b:\n",
    "    print(c)\n",
    "else:\n",
    "    print(d)"
   ]
  },
  {
   "cell_type": "code",
   "execution_count": null,
   "metadata": {},
   "outputs": [],
   "source": []
  }
 ],
 "metadata": {
  "kernelspec": {
   "display_name": "Python 3",
   "language": "python",
   "name": "python3"
  },
  "language_info": {
   "codemirror_mode": {
    "name": "ipython",
    "version": 3
   },
   "file_extension": ".py",
   "mimetype": "text/x-python",
   "name": "python",
   "nbconvert_exporter": "python",
   "pygments_lexer": "ipython3",
   "version": "3.6.9"
  }
 },
 "nbformat": 4,
 "nbformat_minor": 2
}
