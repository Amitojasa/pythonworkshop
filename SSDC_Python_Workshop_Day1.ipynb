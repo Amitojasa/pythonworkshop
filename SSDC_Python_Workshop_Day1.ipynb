{
 "cells": [
  {
   "cell_type": "markdown",
   "metadata": {},
   "source": [
    "# Computer : An electronic device for storing and processing data, according to instructions given to it in a variable program."
   ]
  },
  {
   "cell_type": "markdown",
   "metadata": {},
   "source": [
    "# Programming Language : It is a formal language, which comprises a set of instructions that are used to instruct computer to perform certain intended task."
   ]
  },
  {
   "cell_type": "markdown",
   "metadata": {},
   "source": [
    "# Python is an interpreted, high-level, general-purpose programming language. Created by Guido van Rossum"
   ]
  },
  {
   "cell_type": "markdown",
   "metadata": {},
   "source": [
    "# An interpreted language is a type of programming language for which most of its implementations execute instructions directly and freely, without previously compiling a program into machine-language instructions"
   ]
  },
  {
   "cell_type": "markdown",
   "metadata": {},
   "source": [
    "# Python Literals : Literals are raw data which are in turn a legal combination of symbols which are directly acceptable to Python."
   ]
  },
  {
   "cell_type": "markdown",
   "metadata": {},
   "source": [
    "Types of literals:\n",
    "1. Numeric Literals\n",
    "    1. Integers (Decimals , Octals , Hexadecimals , Binary)\n",
    "    2. Floating point\n",
    "    3. Complex\n",
    "2. String Literals \n",
    "3. Boolean Literals"
   ]
  },
  {
   "cell_type": "markdown",
   "metadata": {},
   "source": [
    "# Numeric Literals"
   ]
  },
  {
   "cell_type": "code",
   "execution_count": 3,
   "metadata": {},
   "outputs": [
    {
     "name": "stdout",
     "output_type": "stream",
     "text": [
      "10\n",
      "2\n",
      "8\n",
      "16\n"
     ]
    }
   ],
   "source": [
    "# Integers\n",
    "print(10) # Decimal\n",
    "print(0b10) # Binary\n",
    "print(0o10) # Octal\n",
    "print(0x10) # Hexadecimal"
   ]
  },
  {
   "cell_type": "code",
   "execution_count": 30,
   "metadata": {},
   "outputs": [
    {
     "name": "stdout",
     "output_type": "stream",
     "text": [
      "1.9e-90\n",
      "0.00019\n",
      "19000.0\n",
      "1.9e+90\n"
     ]
    }
   ],
   "source": [
    "# Floating Point\n",
    "print(0.0000000000000000000000000000000000000000000000000000000000000000000000000000000000000000019) # Simple notation\n",
    "print(1.9e-4) # Scientific Notation\n",
    "print(1.9e4) # Scientific Notation\n",
    "print(1900000000000000000000000000000000000000000000000000000000000000000000000000000000000000000.0) # Simple notation`"
   ]
  },
  {
   "cell_type": "code",
   "execution_count": 50,
   "metadata": {},
   "outputs": [
    {
     "name": "stdout",
     "output_type": "stream",
     "text": [
      "(1+2j)\n"
     ]
    }
   ],
   "source": [
    "# Complex Numerals\n",
    "print( 1 + 2j ) # This is the right way of writing a complex no. in Python"
   ]
  },
  {
   "cell_type": "code",
   "execution_count": 51,
   "metadata": {},
   "outputs": [
    {
     "ename": "SyntaxError",
     "evalue": "invalid syntax (<ipython-input-51-419d8d3c7e68>, line 1)",
     "output_type": "error",
     "traceback": [
      "\u001b[1;36m  File \u001b[1;32m\"<ipython-input-51-419d8d3c7e68>\"\u001b[1;36m, line \u001b[1;32m1\u001b[0m\n\u001b[1;33m    print( 1 + 2 j )  # This is wrong\u001b[0m\n\u001b[1;37m                 ^\u001b[0m\n\u001b[1;31mSyntaxError\u001b[0m\u001b[1;31m:\u001b[0m invalid syntax\n"
     ]
    }
   ],
   "source": [
    "print( 1 + 2 j )  # This is wrong syntax"
   ]
  },
  {
   "cell_type": "code",
   "execution_count": 52,
   "metadata": {},
   "outputs": [
    {
     "ename": "NameError",
     "evalue": "name 'j2' is not defined",
     "output_type": "error",
     "traceback": [
      "\u001b[1;31m---------------------------------------------------------------------------\u001b[0m",
      "\u001b[1;31mNameError\u001b[0m                                 Traceback (most recent call last)",
      "\u001b[1;32m<ipython-input-52-1b6564ee4936>\u001b[0m in \u001b[0;36m<module>\u001b[1;34m\u001b[0m\n\u001b[1;32m----> 1\u001b[1;33m \u001b[0mprint\u001b[0m\u001b[1;33m(\u001b[0m \u001b[1;36m1\u001b[0m \u001b[1;33m+\u001b[0m \u001b[0mj2\u001b[0m \u001b[1;33m)\u001b[0m\u001b[1;33m\u001b[0m\u001b[1;33m\u001b[0m\u001b[0m\n\u001b[0m",
      "\u001b[1;31mNameError\u001b[0m: name 'j2' is not defined"
     ]
    }
   ],
   "source": [
    "print( 1 + j2 ) # This is wrong syntax"
   ]
  },
  {
   "cell_type": "markdown",
   "metadata": {},
   "source": [
    "# String Literals"
   ]
  },
  {
   "cell_type": "code",
   "execution_count": 40,
   "metadata": {},
   "outputs": [
    {
     "name": "stdout",
     "output_type": "stream",
     "text": [
      "SSDC is conducting a workshop\n",
      "SSDC is conducting a workshop\n"
     ]
    }
   ],
   "source": [
    "print( 'SSDC is conducting a workshop' )\n",
    "print( \"SSDC is conducting a workshop\" )"
   ]
  },
  {
   "cell_type": "code",
   "execution_count": 4,
   "metadata": {},
   "outputs": [
    {
     "ename": "SyntaxError",
     "evalue": "EOL while scanning string literal (<ipython-input-4-1557ad7c83dd>, line 1)",
     "output_type": "error",
     "traceback": [
      "\u001b[1;36m  File \u001b[1;32m\"<ipython-input-4-1557ad7c83dd>\"\u001b[1;36m, line \u001b[1;32m1\u001b[0m\n\u001b[1;33m    print( \"SSDC is conducting a workshop\u001b[0m\n\u001b[1;37m                                          ^\u001b[0m\n\u001b[1;31mSyntaxError\u001b[0m\u001b[1;31m:\u001b[0m EOL while scanning string literal\n"
     ]
    }
   ],
   "source": [
    "print( \"SSDC is conducting a workshop \n",
    "      and we are going to attend it\" )"
   ]
  },
  {
   "cell_type": "code",
   "execution_count": 5,
   "metadata": {},
   "outputs": [
    {
     "name": "stdout",
     "output_type": "stream",
     "text": [
      "SSDC is conducting a workshop\n",
      "and we are going to attend it\n"
     ]
    }
   ],
   "source": [
    "print( '''SSDC is conducting a workshop\n",
    "and we are going to attend it''' )"
   ]
  },
  {
   "cell_type": "code",
   "execution_count": 39,
   "metadata": {},
   "outputs": [
    {
     "name": "stdout",
     "output_type": "stream",
     "text": [
      "SSDC is conducting a workshop\n",
      "and we are going to attend it\n"
     ]
    }
   ],
   "source": [
    "print( 'SSDC is conducting a workshop\\nand we are going to attend it' )"
   ]
  },
  {
   "cell_type": "code",
   "execution_count": 2,
   "metadata": {},
   "outputs": [
    {
     "name": "stdout",
     "output_type": "stream",
     "text": [
      "SSDC is conducting a workshop\tand we are going to attend it\n"
     ]
    }
   ],
   "source": [
    "# tab doesn't works inside a string.\n",
    "# So, we have another key '\\t' for it.\n",
    "print( 'SSDC is conducting a workshop\\tand we are going to attend it' ) "
   ]
  },
  {
   "cell_type": "code",
   "execution_count": 43,
   "metadata": {},
   "outputs": [
    {
     "ename": "SyntaxError",
     "evalue": "invalid syntax (<ipython-input-43-6b8163a71ac0>, line 1)",
     "output_type": "error",
     "traceback": [
      "\u001b[1;36m  File \u001b[1;32m\"<ipython-input-43-6b8163a71ac0>\"\u001b[1;36m, line \u001b[1;32m1\u001b[0m\n\u001b[1;33m    print( 'Are you going to attend SSDC's workshop' )\u001b[0m\n\u001b[1;37m                                         ^\u001b[0m\n\u001b[1;31mSyntaxError\u001b[0m\u001b[1;31m:\u001b[0m invalid syntax\n"
     ]
    }
   ],
   "source": [
    "print( 'Are you going to attend SSDC's workshop' )"
   ]
  },
  {
   "cell_type": "code",
   "execution_count": 42,
   "metadata": {},
   "outputs": [
    {
     "name": "stdout",
     "output_type": "stream",
     "text": [
      "Are you going to attend SSDC's workshop\n",
      "Are you going to attend SSDC\"s workshop\n"
     ]
    }
   ],
   "source": [
    "print( \"Are you going to attend SSDC's workshop\" )\n",
    "print( 'Are you going to attend SSDC\"s workshop' )"
   ]
  },
  {
   "cell_type": "code",
   "execution_count": 1,
   "metadata": {},
   "outputs": [
    {
     "name": "stdout",
     "output_type": "stream",
     "text": [
      "Are you going to attend SSDC's workshop\n",
      "Are you going to attend SSDC\"s workshop\n"
     ]
    }
   ],
   "source": [
    "print( 'Are you going to attend SSDC\\'s workshop' )\n",
    "print( \"Are you going to attend SSDC\\\"s workshop\" )"
   ]
  },
  {
   "cell_type": "code",
   "execution_count": 24,
   "metadata": {},
   "outputs": [
    {
     "ename": "SyntaxError",
     "evalue": "(unicode error) 'unicodeescape' codec can't decode bytes in position 2-3: truncated \\UXXXXXXXX escape (<ipython-input-24-d7e362e1e1e4>, line 2)",
     "output_type": "error",
     "traceback": [
      "\u001b[1;36m  File \u001b[1;32m\"<ipython-input-24-d7e362e1e1e4>\"\u001b[1;36m, line \u001b[1;32m2\u001b[0m\n\u001b[1;33m    print('C:\\Users\\Aryan\\Downloads')\u001b[0m\n\u001b[1;37m         ^\u001b[0m\n\u001b[1;31mSyntaxError\u001b[0m\u001b[1;31m:\u001b[0m (unicode error) 'unicodeescape' codec can't decode bytes in position 2-3: truncated \\UXXXXXXXX escape\n"
     ]
    }
   ],
   "source": [
    "# Escaping the escape sequence\n",
    "print( 'C:\\Users\\Aryan\\Downloads' )"
   ]
  },
  {
   "cell_type": "code",
   "execution_count": 25,
   "metadata": {},
   "outputs": [
    {
     "name": "stdout",
     "output_type": "stream",
     "text": [
      "C:\\Users\\Aryan\\Downloads\n"
     ]
    }
   ],
   "source": [
    "# The Solution\n",
    "print( 'C:\\\\Users\\\\Aryan\\\\Downloads' )"
   ]
  },
  {
   "cell_type": "markdown",
   "metadata": {},
   "source": [
    "# Boolean"
   ]
  },
  {
   "cell_type": "code",
   "execution_count": 54,
   "metadata": {},
   "outputs": [
    {
     "name": "stdout",
     "output_type": "stream",
     "text": [
      "True\n",
      "False\n"
     ]
    }
   ],
   "source": [
    "# Do note that Starting letters are in Uppercase\n",
    "print( True )\n",
    "print( False )"
   ]
  },
  {
   "cell_type": "markdown",
   "metadata": {},
   "source": [
    "# Exercise"
   ]
  },
  {
   "cell_type": "code",
   "execution_count": 56,
   "metadata": {},
   "outputs": [
    {
     "name": "stdout",
     "output_type": "stream",
     "text": [
      "<class 'int'>\n",
      "<class 'int'>\n",
      "<class 'int'>\n",
      "<class 'int'>\n",
      "<class 'float'>\n",
      "<class 'float'>\n",
      "<class 'str'>\n",
      "<class 'bool'>\n",
      "<class 'str'>\n"
     ]
    }
   ],
   "source": [
    "# Guess the Output:\n",
    "print( type( 0b10 ) )\n",
    "print( type( 0x10 ) )\n",
    "print( type( 0o10 ) )\n",
    "print( type( 10 ) )\n",
    "print( type( 10.01 ) )\n",
    "print( type( 1001e-2 ) )\n",
    "print( type( '10' ) )\n",
    "print( type( True ) )\n",
    "print( type( 'True' ) )"
   ]
  },
  {
   "cell_type": "markdown",
   "metadata": {},
   "source": [
    "# Variables : They are reserved memory locations that store values and are identified through identifiers (designated names) "
   ]
  },
  {
   "cell_type": "markdown",
   "metadata": {},
   "source": [
    "1. Identifiers (designated names by programmer) can be a combination of letters in :\n",
    "    1. Lowercase (a to z) \n",
    "    2. Uppercase (A to Z) \n",
    "    3. Digits (0 to 9) \n",
    "    4. Or an underscore '_'\n",
    "2. An identifier cannot start with a digit.\n",
    "3. Keywords cannot be used as identifiers.\n",
    "4. We cannot use special symbols like !, @, #, $, % etc. in our identifier.\n",
    "5. Identifier can be of any length."
   ]
  },
  {
   "cell_type": "code",
   "execution_count": 6,
   "metadata": {},
   "outputs": [
    {
     "name": "stdout",
     "output_type": "stream",
     "text": [
      "\n",
      "Welcome to Python 3.7's help utility!\n",
      "\n",
      "If this is your first time using Python, you should definitely check out\n",
      "the tutorial on the Internet at https://docs.python.org/3.7/tutorial/.\n",
      "\n",
      "Enter the name of any module, keyword, or topic to get help on writing\n",
      "Python programs and using Python modules.  To quit this help utility and\n",
      "return to the interpreter, just type \"quit\".\n",
      "\n",
      "To get a list of available modules, keywords, symbols, or topics, type\n",
      "\"modules\", \"keywords\", \"symbols\", or \"topics\".  Each module also comes\n",
      "with a one-line summary of what it does; to list the modules whose name\n",
      "or summary contain a given string such as \"spam\", type \"modules spam\".\n",
      "\n",
      "help> keywords\n",
      "\n",
      "Here is a list of the Python keywords.  Enter any keyword to get more help.\n",
      "\n",
      "False               class               from                or\n",
      "None                continue            global              pass\n",
      "True                def                 if                  raise\n",
      "and                 del                 import              return\n",
      "as                  elif                in                  try\n",
      "assert              else                is                  while\n",
      "async               except              lambda              with\n",
      "await               finally             nonlocal            yield\n",
      "break               for                 not                 \n",
      "\n",
      "help> quit\n",
      "\n",
      "You are now leaving help and returning to the Python interpreter.\n",
      "If you want to ask for help on a particular object directly from the\n",
      "interpreter, you can type \"help(object)\".  Executing \"help('string')\"\n",
      "has the same effect as typing a particular string at the help> prompt.\n"
     ]
    }
   ],
   "source": [
    "help()"
   ]
  },
  {
   "cell_type": "markdown",
   "metadata": {},
   "source": [
    "# DataTypes : Categorisation of data items, it tells the language interpreter what kind of computational operations can be performed on the data item."
   ]
  },
  {
   "cell_type": "markdown",
   "metadata": {},
   "source": [
    "Datatypes in python :\n",
    "1. Integers\n",
    "2. Floating point numbers\n",
    "3. Strings\n",
    "4. Boolean numbers\n",
    "5. Other Python Built-in Data Structures (eg : list, tuples, Dictionaries etc.)"
   ]
  },
  {
   "cell_type": "code",
   "execution_count": 6,
   "metadata": {},
   "outputs": [
    {
     "name": "stdout",
     "output_type": "stream",
     "text": [
      "10\n",
      "10.01\n",
      "ten point zero one\n",
      "True\n"
     ]
    }
   ],
   "source": [
    "# Assigning or Intialisation of variables:\n",
    "# In python, programmers don't need to explicitly declare variables to reserve memory. The declaration and reservation of memory is automatically handeled by the interpreter when a value is assigned to a variable withe help of assignment operator '='.\n",
    "# like : variable_name = value_to_be_assigned\n",
    "\n",
    "x = 10\n",
    "print( x )\n",
    "\n",
    "x = 10.01 # Python interpreter overrides the previous value with the new value.\n",
    "print( x )\n",
    "\n",
    "x = 'ten point zero one'\n",
    "print( x )\n",
    "\n",
    "x = True\n",
    "print( x )"
   ]
  },
  {
   "cell_type": "code",
   "execution_count": 8,
   "metadata": {},
   "outputs": [
    {
     "name": "stdout",
     "output_type": "stream",
     "text": [
      "10\n",
      "10\n",
      "10\n",
      "10\n"
     ]
    }
   ],
   "source": [
    "# Multiple assignements in one line are also possible\n",
    "a = b = c = d = 10\n",
    "print(a)\n",
    "print(b)\n",
    "print(c)\n",
    "print(d)"
   ]
  },
  {
   "cell_type": "code",
   "execution_count": 9,
   "metadata": {},
   "outputs": [
    {
     "name": "stdout",
     "output_type": "stream",
     "text": [
      "10\n",
      "10.01\n",
      "ten point zero one\n",
      "False\n"
     ]
    }
   ],
   "source": [
    "# Multiple assignements in one line with different values are also possible\n",
    "a , b , c , d = 10 , 10.01 , 'ten point zero one' , False\n",
    "print(a)\n",
    "print(b)\n",
    "print(c)\n",
    "print(d)"
   ]
  },
  {
   "cell_type": "code",
   "execution_count": 9,
   "metadata": {},
   "outputs": [
    {
     "name": "stdout",
     "output_type": "stream",
     "text": [
      "10\n",
      "20\n"
     ]
    }
   ],
   "source": [
    "# How to take INPUT durin program execution\n",
    "x = int( input() )\n",
    "x = 2 * x\n",
    "print( x )"
   ]
  },
  {
   "cell_type": "markdown",
   "metadata": {},
   "source": [
    "# Operators and Operations : \n",
    "# Operators are programming constructs (depicted in the form of symbols) that are used to manipulate data items (operands).\n",
    "# Operations are the data manipulations done on data items (operands) with the help of operators"
   ]
  },
  {
   "cell_type": "markdown",
   "metadata": {},
   "source": [
    "List of operators in Python :\n",
    "1. Arithematic (+ , - , * , / , % , // , **)\n",
    "2. Comparision or Relational (== , != , > , >= , < , <=)\n",
    "3. Assignement ( = )\n",
    "4. Shortcut Operators ( += , -= , *= , /= , %= , //= , **= ) Amalgamation of assignment and arithematic operators\n",
    "5. Unary ( - , + )\n",
    "6. Bitwise ( & , | , ^ , ~ )\n",
    "7. Shift\n",
    "    1. Left shift ( << )\n",
    "    2. Right shift ( >> )\n",
    "8. Logical ( && , || , ! )\n",
    "9. Membership ( in , not in)\n",
    "10. Identity ( is , is not )"
   ]
  },
  {
   "cell_type": "markdown",
   "metadata": {},
   "source": [
    "Operator Precedence : \n",
    "1. ** (Exponentiation)\n",
    "2. ~ (Bitwise 'NOT'), + (Unary) , -(Unary)\n",
    "3. ' * ' , ' / ' , ' % ' , ' // ' (arithematic operators)\n",
    "4. '+' , ' - ' (rest of the arithematic)\n",
    "5. '>>' , '<<' (Shift operators)\n",
    "6. & (Bitwise 'AND')\n",
    "7. ^ , | (Bitwise 'OR' and 'XOR')\n",
    "8. <= , >= , < , > (Realtional or comparision)\n",
    "9. == , != ( rest of relational )\n",
    "10. = , += , -= , = , /= , %= , //= , *= (assignment and shortcut operators)\n",
    "11. is , is not (Identity)\n",
    "12. in , not in (Membership)\n",
    "13. not (Logical 'NOT')\n",
    "14. and (Logical 'AND')\n",
    "15. or (Logical 'OR')\n",
    "\n",
    "But, one can alter this order of precedence using parentheses"
   ]
  },
  {
   "cell_type": "markdown",
   "metadata": {},
   "source": [
    "Arithematic operators on numeric types : "
   ]
  },
  {
   "cell_type": "code",
   "execution_count": 10,
   "metadata": {},
   "outputs": [
    {
     "name": "stdout",
     "output_type": "stream",
     "text": [
      "3\n"
     ]
    }
   ],
   "source": [
    "a = 1 + 2\n",
    "print( a )"
   ]
  },
  {
   "cell_type": "code",
   "execution_count": 11,
   "metadata": {},
   "outputs": [
    {
     "name": "stdout",
     "output_type": "stream",
     "text": [
      "3.21\n"
     ]
    }
   ],
   "source": [
    "a = 1.01 + 2.2\n",
    "print( a )"
   ]
  },
  {
   "cell_type": "code",
   "execution_count": 12,
   "metadata": {},
   "outputs": [
    {
     "name": "stdout",
     "output_type": "stream",
     "text": [
      "-1\n"
     ]
    }
   ],
   "source": [
    "a = 1 - 2\n",
    "print( a )"
   ]
  },
  {
   "cell_type": "code",
   "execution_count": 13,
   "metadata": {},
   "outputs": [
    {
     "name": "stdout",
     "output_type": "stream",
     "text": [
      "4.101\n"
     ]
    }
   ],
   "source": [
    "a = 1.901 + 2.2\n",
    "print( a )"
   ]
  },
  {
   "cell_type": "code",
   "execution_count": 21,
   "metadata": {},
   "outputs": [
    {
     "name": "stdout",
     "output_type": "stream",
     "text": [
      "2\n"
     ]
    }
   ],
   "source": [
    "a = 1 * 2\n",
    "print( a )"
   ]
  },
  {
   "cell_type": "code",
   "execution_count": 16,
   "metadata": {},
   "outputs": [
    {
     "name": "stdout",
     "output_type": "stream",
     "text": [
      "2\n"
     ]
    }
   ],
   "source": [
    "a = 1 * 2.0\n",
    "print( a )"
   ]
  },
  {
   "cell_type": "code",
   "execution_count": 17,
   "metadata": {},
   "outputs": [
    {
     "name": "stdout",
     "output_type": "stream",
     "text": [
      "3.75\n"
     ]
    }
   ],
   "source": [
    "a = 1.5 * 2.5\n",
    "print( a )"
   ]
  },
  {
   "cell_type": "code",
   "execution_count": 19,
   "metadata": {},
   "outputs": [
    {
     "name": "stdout",
     "output_type": "stream",
     "text": [
      "0.5\n"
     ]
    }
   ],
   "source": [
    "a = 1 / 2\n",
    "print( a )"
   ]
  },
  {
   "cell_type": "code",
   "execution_count": 20,
   "metadata": {},
   "outputs": [
    {
     "name": "stdout",
     "output_type": "stream",
     "text": [
      "2.0\n"
     ]
    }
   ],
   "source": [
    "a = 2 / 1\n",
    "print( a )"
   ]
  },
  {
   "cell_type": "code",
   "execution_count": 18,
   "metadata": {},
   "outputs": [
    {
     "name": "stdout",
     "output_type": "stream",
     "text": [
      "1.2\n"
     ]
    }
   ],
   "source": [
    "a = 1.5 / 1.25\n",
    "print( a )"
   ]
  },
  {
   "cell_type": "code",
   "execution_count": 23,
   "metadata": {},
   "outputs": [
    {
     "name": "stdout",
     "output_type": "stream",
     "text": [
      "3\n"
     ]
    }
   ],
   "source": [
    "a = 6 // 2\n",
    "print( a )"
   ]
  },
  {
   "cell_type": "code",
   "execution_count": 24,
   "metadata": {},
   "outputs": [
    {
     "name": "stdout",
     "output_type": "stream",
     "text": [
      "1\n"
     ]
    }
   ],
   "source": [
    "a = 6 // 4\n",
    "print( a )"
   ]
  },
  {
   "cell_type": "code",
   "execution_count": 17,
   "metadata": {},
   "outputs": [
    {
     "name": "stdout",
     "output_type": "stream",
     "text": [
      "40.0\n"
     ]
    }
   ],
   "source": [
    "a = 6.5 // 0.16\n",
    "print( a )"
   ]
  },
  {
   "cell_type": "code",
   "execution_count": 33,
   "metadata": {},
   "outputs": [
    {
     "name": "stdout",
     "output_type": "stream",
     "text": [
      "0\n"
     ]
    }
   ],
   "source": [
    "a = 6 % 2\n",
    "print( a )"
   ]
  },
  {
   "cell_type": "code",
   "execution_count": 35,
   "metadata": {},
   "outputs": [
    {
     "name": "stdout",
     "output_type": "stream",
     "text": [
      "2\n"
     ]
    }
   ],
   "source": [
    "a = 6 % 4\n",
    "print( a )"
   ]
  },
  {
   "cell_type": "code",
   "execution_count": 37,
   "metadata": {},
   "outputs": [
    {
     "name": "stdout",
     "output_type": "stream",
     "text": [
      "0.09999999999999987\n"
     ]
    }
   ],
   "source": [
    "a = 6.5 % 0.16\n",
    "print( a )"
   ]
  },
  {
   "cell_type": "markdown",
   "metadata": {},
   "source": [
    "(Allowed) Arithematics on string type values :"
   ]
  },
  {
   "cell_type": "code",
   "execution_count": 38,
   "metadata": {},
   "outputs": [
    {
     "name": "stdout",
     "output_type": "stream",
     "text": [
      "SSDC, SLIET\n"
     ]
    }
   ],
   "source": [
    "a = 'SSDC' + ', SLIET'\n",
    "print( a )"
   ]
  },
  {
   "cell_type": "code",
   "execution_count": 40,
   "metadata": {},
   "outputs": [
    {
     "name": "stdout",
     "output_type": "stream",
     "text": [
      "Welcome Welcome Welcome \n"
     ]
    }
   ],
   "source": [
    "a = 3 * 'Welcome '\n",
    "print( a )"
   ]
  },
  {
   "cell_type": "markdown",
   "metadata": {},
   "source": [
    "# String Slicing"
   ]
  },
  {
   "cell_type": "code",
   "execution_count": 19,
   "metadata": {},
   "outputs": [
    {
     "name": "stdout",
     "output_type": "stream",
     "text": [
      "26\n"
     ]
    }
   ],
   "source": [
    "a = 'ABCDEFGHIJKLMNOPQRSTUVWXYZ'\n",
    "print( len( a ))"
   ]
  },
  {
   "cell_type": "code",
   "execution_count": 20,
   "metadata": {},
   "outputs": [
    {
     "name": "stdout",
     "output_type": "stream",
     "text": [
      "ABCDEFGHIJKLMNOPQRSTUVWXYZ\n"
     ]
    }
   ],
   "source": [
    "print(a)"
   ]
  },
  {
   "cell_type": "code",
   "execution_count": 25,
   "metadata": {},
   "outputs": [
    {
     "name": "stdout",
     "output_type": "stream",
     "text": [
      "ACE\n"
     ]
    }
   ],
   "source": [
    "print(a[0 : 5 : 2]) # <string_name>[<start> : <end> : <steps>]  range is [start, end)"
   ]
  },
  {
   "cell_type": "code",
   "execution_count": 62,
   "metadata": {},
   "outputs": [
    {
     "name": "stdout",
     "output_type": "stream",
     "text": [
      "CDEFGHIJKLMNOPQRSTUVWXY\n"
     ]
    }
   ],
   "source": [
    "print(a[2:25])"
   ]
  },
  {
   "cell_type": "code",
   "execution_count": 26,
   "metadata": {},
   "outputs": [
    {
     "name": "stdout",
     "output_type": "stream",
     "text": [
      "ABCDEFGHIJKLMNOPQRSTUVWXYZ\n"
     ]
    }
   ],
   "source": [
    "print(a[:])"
   ]
  },
  {
   "cell_type": "code",
   "execution_count": 27,
   "metadata": {},
   "outputs": [
    {
     "name": "stdout",
     "output_type": "stream",
     "text": [
      "ABCDEFGHIJKLMNOPQRSTUVWXYZ\n"
     ]
    }
   ],
   "source": [
    "print(a[0:])"
   ]
  },
  {
   "cell_type": "code",
   "execution_count": 28,
   "metadata": {},
   "outputs": [
    {
     "name": "stdout",
     "output_type": "stream",
     "text": [
      "ABCDEFGHIJKLMNOPQRSTUVWXYZ\n"
     ]
    }
   ],
   "source": [
    "print(a[:26])"
   ]
  },
  {
   "cell_type": "code",
   "execution_count": 30,
   "metadata": {},
   "outputs": [
    {
     "name": "stdout",
     "output_type": "stream",
     "text": [
      "ACEGIKMOQSUWY\n"
     ]
    }
   ],
   "source": [
    "print(a[::2])"
   ]
  },
  {
   "cell_type": "code",
   "execution_count": 31,
   "metadata": {},
   "outputs": [
    {
     "name": "stdout",
     "output_type": "stream",
     "text": [
      "ZYXWVUTSRQPONMLKJIHGFEDCBA\n"
     ]
    }
   ],
   "source": [
    "print(a[-1:-27:-1])"
   ]
  },
  {
   "cell_type": "code",
   "execution_count": 32,
   "metadata": {},
   "outputs": [
    {
     "name": "stdout",
     "output_type": "stream",
     "text": [
      "ZYXWVUTSRQPONMLKJIHGFEDCBA\n"
     ]
    }
   ],
   "source": [
    "print(a[-1::-1])"
   ]
  },
  {
   "cell_type": "code",
   "execution_count": 33,
   "metadata": {},
   "outputs": [
    {
     "name": "stdout",
     "output_type": "stream",
     "text": [
      "ZXVTRPNLJHFDB\n"
     ]
    }
   ],
   "source": [
    "print(a[-1::-2])"
   ]
  },
  {
   "cell_type": "markdown",
   "metadata": {},
   "source": [
    "# Some useful methods"
   ]
  },
  {
   "cell_type": "code",
   "execution_count": 34,
   "metadata": {},
   "outputs": [
    {
     "name": "stdout",
     "output_type": "stream",
     "text": [
      "<class 'int'>\n",
      "10\n"
     ]
    }
   ],
   "source": [
    "a = 10\n",
    "print(type(a))\n",
    "print(a)"
   ]
  },
  {
   "cell_type": "code",
   "execution_count": 35,
   "metadata": {},
   "outputs": [
    {
     "name": "stdout",
     "output_type": "stream",
     "text": [
      "<class 'float'>\n",
      "10.0\n"
     ]
    }
   ],
   "source": [
    "a = float(a)\n",
    "print(type(a))\n",
    "print(a)"
   ]
  },
  {
   "cell_type": "code",
   "execution_count": 36,
   "metadata": {},
   "outputs": [
    {
     "name": "stdout",
     "output_type": "stream",
     "text": [
      "<class 'str'>\n",
      "10.0\n"
     ]
    }
   ],
   "source": [
    "a = str(a)\n",
    "print(type(a))\n",
    "print(a)"
   ]
  },
  {
   "cell_type": "markdown",
   "metadata": {},
   "source": [
    "# Q1. Write a program to take an integer input from user and display its : Binary , Octal and Hexadecimal forms onto the screen"
   ]
  },
  {
   "cell_type": "code",
   "execution_count": 3,
   "metadata": {},
   "outputs": [
    {
     "name": "stdout",
     "output_type": "stream",
     "text": [
      "20\n",
      "binary: 0b10100\n",
      "Octal: 0o24\n",
      "Hexadecimal: 0x14\n"
     ]
    }
   ],
   "source": [
    "a = int(input())\n",
    "print(\"binary: \"+ bin(a))\n",
    "print(\"Octal: \"+oct(a))\n",
    "print(\"Hexadecimal: \"+hex(a))\n"
   ]
  },
  {
   "cell_type": "markdown",
   "metadata": {},
   "source": [
    "# Q2. Write a program to take the Sides of a triangle as an input and display its area onto the screen."
   ]
  },
  {
   "cell_type": "code",
   "execution_count": 10,
   "metadata": {},
   "outputs": [
    {
     "name": "stdout",
     "output_type": "stream",
     "text": [
      "4 5 3\n",
      "6.0\n"
     ]
    }
   ],
   "source": [
    "from math import sqrt\n",
    "a,b,c = list(map(int,input().split()))\n",
    "p=(a+b+c)/2\n",
    "print(sqrt(p*(p-a)*(p-b)*(p-c)))"
   ]
  },
  {
   "cell_type": "markdown",
   "metadata": {},
   "source": [
    "# Q3. Write a program to take the radius of a circle as an input and display its area onto the screen."
   ]
  },
  {
   "cell_type": "code",
   "execution_count": 12,
   "metadata": {},
   "outputs": [
    {
     "name": "stdout",
     "output_type": "stream",
     "text": [
      "10\n",
      "314.1592653589793\n"
     ]
    }
   ],
   "source": [
    "from math import pi\n",
    "r = int(input())\n",
    "print(pi*r*r)"
   ]
  },
  {
   "cell_type": "markdown",
   "metadata": {},
   "source": [
    "# Q4. Write a program to print a given integer in reverse order"
   ]
  },
  {
   "cell_type": "code",
   "execution_count": 15,
   "metadata": {},
   "outputs": [
    {
     "name": "stdout",
     "output_type": "stream",
     "text": [
      "2001\n",
      "1002\n"
     ]
    }
   ],
   "source": [
    "a= int(input())\n",
    "a=str(a)\n",
    "print(a[::-1])"
   ]
  },
  {
   "cell_type": "markdown",
   "metadata": {},
   "source": [
    "# Q5. Write a program to replace the letters of an alphabetical string with its corresponding character in reverse alphabetical order."
   ]
  },
  {
   "cell_type": "code",
   "execution_count": 21,
   "metadata": {},
   "outputs": [
    {
     "name": "stdout",
     "output_type": "stream",
     "text": [
      "amitoj\n",
      "znrglq\n"
     ]
    }
   ],
   "source": [
    "a='abcdefghijklmnopqrstuvwxyz';\n",
    "b=a[::-1]\n",
    "\n",
    "c=list(input())\n",
    "\n",
    "for i in range(len(c)):\n",
    "    c[i]=b[ord(c[i])-97]\n",
    "print(''.join(c))\n"
   ]
  },
  {
   "cell_type": "code",
   "execution_count": null,
   "metadata": {},
   "outputs": [],
   "source": []
  }
 ],
 "metadata": {
  "kernelspec": {
   "display_name": "Python 3",
   "language": "python",
   "name": "python3"
  },
  "language_info": {
   "codemirror_mode": {
    "name": "ipython",
    "version": 3
   },
   "file_extension": ".py",
   "mimetype": "text/x-python",
   "name": "python",
   "nbconvert_exporter": "python",
   "pygments_lexer": "ipython3",
   "version": "3.6.9"
  }
 },
 "nbformat": 4,
 "nbformat_minor": 2
}
